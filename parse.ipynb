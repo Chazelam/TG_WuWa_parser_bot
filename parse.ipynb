{
 "cells": [
  {
   "cell_type": "code",
   "execution_count": 61,
   "metadata": {},
   "outputs": [],
   "source": [
    "from bs4 import BeautifulSoup\n",
    "from PIL import Image, ImageDraw, ImageFont\n",
    "import requests\n",
    "import shutil\n",
    "import os\n",
    "import PIL\n",
    "import numpy as np\n",
    "import json\n",
    "\n",
    "url = \"https://wuthering.wiki/\""
   ]
  },
  {
   "cell_type": "code",
   "execution_count": 4,
   "metadata": {},
   "outputs": [
    {
     "name": "stdout",
     "output_type": "stream",
     "text": [
      "200\n"
     ]
    }
   ],
   "source": [
    "page = requests.get(url)\n",
    "print(page.status_code)\n",
    "soup = BeautifulSoup(page.content)"
   ]
  },
  {
   "cell_type": "code",
   "execution_count": 25,
   "metadata": {},
   "outputs": [
    {
     "name": "stdout",
     "output_type": "stream",
     "text": [
      "<div class=\"itementry quality-5\" data-element=\"6\" data-name=\"Rover-Havoc\" data-rarity=\"5\">\n",
      "<a href=\"character_1605.html\">\n",
      "<div class=\"navicon-container\">\n",
      "<img class=\"navicon\" src=\"/img/role_1605.png\"/>\n",
      "</div>\n",
      "<div class=\"navelement-container\">\n",
      "<img class=\"navelement\" src=\"/img/element_6.png\"/>\n",
      "</div>\n",
      "<div class=\"navtext\">\n",
      "                                Rover-Havoc\n",
      "                            </div>\n",
      "</a>\n",
      "</div>\n"
     ]
    }
   ],
   "source": [
    "epic = soup.find_all(\"div\", {\"class\": \"itementry quality-4\"})\n",
    "leg = soup.find_all(\"div\", {\"class\": \"itementry quality-5\"})\n",
    "characters = leg + epic\n",
    "t = leg[-1]\n",
    "print(t)"
   ]
  },
  {
   "cell_type": "code",
   "execution_count": 26,
   "metadata": {},
   "outputs": [
    {
     "name": "stdout",
     "output_type": "stream",
     "text": [
      "Rover-Havoc\n",
      "https://wuthering.wiki//img/role_1605.png\n",
      "Havoc\n",
      "5\n"
     ]
    }
   ],
   "source": [
    "elements = {\"1\": \"Glacio\", \"2\": \"Fusion\", \"3\" :\"Electro\", \"4\": \"Aero\", \"5\": \"Spectro\", \"6\": \"Havoc\"}\n",
    "\n",
    "name = t[\"data-name\"]\n",
    "icon = url + t.find(\"img\")[\"src\"]\n",
    "element = t[\"data-element\"]\n",
    "rarity = t[\"data-rarity\"]\n",
    "print(name)\n",
    "print(icon)\n",
    "print(elements[element])\n",
    "print(rarity)"
   ]
  },
  {
   "cell_type": "code",
   "execution_count": 31,
   "metadata": {},
   "outputs": [],
   "source": [
    "def download_img(link, file_name):\n",
    "    res = requests.get(link, stream = True)\n",
    "    \n",
    "    if res.status_code == 200:\n",
    "        with open(file_name,'wb') as f:\n",
    "            shutil.copyfileobj(res.raw, f)\n",
    "        print('Image sucessfully Downloaded: ',file_name)\n",
    "        return 1\n",
    "    else:\n",
    "        print('Image Couldn\\'t be retrieved')\n",
    "        return 0"
   ]
  },
  {
   "cell_type": "code",
   "execution_count": 66,
   "metadata": {},
   "outputs": [],
   "source": [
    "file = \"base.json\"\n",
    "f = open(file,\"r\") \n",
    "char_list = json.load(f) \n",
    "f.close() \n",
    "\n",
    "for char in characters:\n",
    "    name = char[\"data-name\"]\n",
    "    if not (name in char_list):\n",
    "        icon = url + char.find(\"img\")[\"src\"]\n",
    "        element = char[\"data-element\"]\n",
    "        rarity = char[\"data-rarity\"]\n",
    "        char_list[name] = [rarity, element]\n",
    "\n",
    "        download_img(icon, f\"./images/characters/{name}.png\")\n",
    "        im = Image.open(f\"./images/characters/{name}.png\")\n",
    "        im1 = im.resize((100, 100))\n",
    "        im1.save(f\"./images/characters/100x100/{name}.png\")\n",
    "\n",
    "out_file = open(file, \"w\") \n",
    "json.dump(char_list, out_file, indent = 6) \n",
    "out_file.close() "
   ]
  }
 ],
 "metadata": {
  "kernelspec": {
   "display_name": "env",
   "language": "python",
   "name": "python3"
  },
  "language_info": {
   "codemirror_mode": {
    "name": "ipython",
    "version": 3
   },
   "file_extension": ".py",
   "mimetype": "text/x-python",
   "name": "python",
   "nbconvert_exporter": "python",
   "pygments_lexer": "ipython3",
   "version": "3.12.2"
  }
 },
 "nbformat": 4,
 "nbformat_minor": 2
}
