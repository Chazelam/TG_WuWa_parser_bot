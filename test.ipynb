{
 "cells": [
  {
   "cell_type": "code",
   "execution_count": 102,
   "metadata": {},
   "outputs": [],
   "source": [
    "from bs4 import BeautifulSoup\n",
    "from PIL import Image, ImageDraw, ImageFont\n",
    "import requests\n",
    "import shutil\n",
    "import os\n",
    "import PIL\n",
    "import numpy as np\n",
    "\n",
    "url = \"https://wuthering.wiki/character_1405.html\"\n",
    "base_url = \"https://wuthering.wiki\""
   ]
  },
  {
   "cell_type": "code",
   "execution_count": 14,
   "metadata": {},
   "outputs": [
    {
     "name": "stdout",
     "output_type": "stream",
     "text": [
      "200\n"
     ]
    }
   ],
   "source": [
    "page = requests.get(url)\n",
    "print(page.status_code)\n",
    "soup = BeautifulSoup(page.content)"
   ]
  },
  {
   "cell_type": "code",
   "execution_count": 15,
   "metadata": {},
   "outputs": [
    {
     "name": "stdout",
     "output_type": "stream",
     "text": [
      "10\n",
      "[<a href=\"item_2.html\">\n",
      "<div class=\"costicon-container\">\n",
      "<img class=\"costicon\" src=\"/img/item_2.png\"/>\n",
      "</div>\n",
      "<div class=\"costtext\">\n",
      "                                        2030000\n",
      "                                    </div>\n",
      "</a>, <a href=\"item_41100011.html\">\n",
      "<div class=\"costicon-container\">\n",
      "<img class=\"costicon\" src=\"/img/item_41100011.png\"/>\n",
      "</div>\n",
      "<div class=\"costtext\">\n",
      "                                        25\n",
      "                                    </div>\n",
      "</a>, <a href=\"item_41100012.html\">\n",
      "<div class=\"costicon-container\">\n",
      "<img class=\"costicon\" src=\"/img/item_41100012.png\"/>\n",
      "</div>\n",
      "<div class=\"costtext\">\n",
      "                                        28\n",
      "                                    </div>\n",
      "</a>, <a href=\"item_41100013.html\">\n",
      "<div class=\"costicon-container\">\n",
      "<img class=\"costicon\" src=\"/img/item_41100013.png\"/>\n",
      "</div>\n",
      "<div class=\"costtext\">\n",
      "                                        40\n",
      "                                    </div>\n",
      "</a>, <a href=\"item_41100014.html\">\n",
      "<div class=\"costicon-container\">\n",
      "<img class=\"costicon\" src=\"/img/item_41100014.png\"/>\n",
      "</div>\n",
      "<div class=\"costtext\">\n",
      "                                        57\n",
      "                                    </div>\n",
      "</a>, <a href=\"item_41400114.html\">\n",
      "<div class=\"costicon-container\">\n",
      "<img class=\"costicon\" src=\"/img/item_41400114.png\"/>\n",
      "</div>\n",
      "<div class=\"costtext\">\n",
      "                                        26\n",
      "                                    </div>\n",
      "</a>, <a href=\"item_43020051.html\">\n",
      "<div class=\"costicon-container\">\n",
      "<img class=\"costicon\" src=\"/img/item_43020051.png\"/>\n",
      "</div>\n",
      "<div class=\"costtext\">\n",
      "                                        25\n",
      "                                    </div>\n",
      "</a>, <a href=\"item_43020052.html\">\n",
      "<div class=\"costicon-container\">\n",
      "<img class=\"costicon\" src=\"/img/item_43020052.png\"/>\n",
      "</div>\n",
      "<div class=\"costtext\">\n",
      "                                        28\n",
      "                                    </div>\n",
      "</a>, <a href=\"item_43020053.html\">\n",
      "<div class=\"costicon-container\">\n",
      "<img class=\"costicon\" src=\"/img/item_43020053.png\"/>\n",
      "</div>\n",
      "<div class=\"costtext\">\n",
      "                                        55\n",
      "                                    </div>\n",
      "</a>, <a href=\"item_43020054.html\">\n",
      "<div class=\"costicon-container\">\n",
      "<img class=\"costicon\" src=\"/img/item_43020054.png\"/>\n",
      "</div>\n",
      "<div class=\"costtext\">\n",
      "                                        67\n",
      "                                    </div>\n",
      "</a>]\n"
     ]
    }
   ],
   "source": [
    "# <div class=\"basetable\">\n",
    "\n",
    "mydivs = soup.find_all(\"div\", {\"class\": \"costgrid-half\"})\n",
    "# print(mydivs)\n",
    "Skill_Upgrade = mydivs[0].find_all(\"a\")\n",
    "print(len(Skill_Upgrade))\n",
    "print(Skill_Upgrade)"
   ]
  },
  {
   "cell_type": "code",
   "execution_count": 40,
   "metadata": {},
   "outputs": [
    {
     "name": "stdout",
     "output_type": "stream",
     "text": [
      "https://wuthering.wiki/img/item_2.png\n",
      "2030000\n"
     ]
    }
   ],
   "source": [
    "# print(Skill_Upgrade[0])\n",
    "print(base_url + Skill_Upgrade[0].find(\"img\")[\"src\"])\n",
    "print(Skill_Upgrade[0].find(\"div\", {\"class\": \"costtext\"}).text.strip())"
   ]
  },
  {
   "cell_type": "code",
   "execution_count": null,
   "metadata": {},
   "outputs": [],
   "source": []
  },
  {
   "cell_type": "code",
   "execution_count": 42,
   "metadata": {},
   "outputs": [
    {
     "name": "stdout",
     "output_type": "stream",
     "text": [
      "Image sucessfully Downloaded:  1.png\n"
     ]
    }
   ],
   "source": [
    "import shutil\n",
    "file_name = \"1.png\"\n",
    "res = requests.get(base_url + Skill_Upgrade[0].find(\"img\")[\"src\"], stream = True)\n",
    "\n",
    "if res.status_code == 200:\n",
    "    with open(file_name,'wb') as f:\n",
    "        shutil.copyfileobj(res.raw, f)\n",
    "    print('Image sucessfully Downloaded: ',file_name)\n",
    "else:\n",
    "    print('Image Couldn\\'t be retrieved')\n"
   ]
  },
  {
   "cell_type": "code",
   "execution_count": 105,
   "metadata": {},
   "outputs": [
    {
     "name": "stdout",
     "output_type": "stream",
     "text": [
      "147.0\n",
      "Image sucessfully Downloaded:  1.png\n",
      "42.0\n",
      "Image sucessfully Downloaded:  2.png\n",
      "42.0\n",
      "Image sucessfully Downloaded:  3.png\n",
      "42.0\n",
      "Image sucessfully Downloaded:  4.png\n",
      "42.0\n",
      "Image sucessfully Downloaded:  5.png\n",
      "42.0\n",
      "Image sucessfully Downloaded:  6.png\n",
      "42.0\n",
      "Image sucessfully Downloaded:  7.png\n",
      "42.0\n",
      "Image sucessfully Downloaded:  8.png\n",
      "42.0\n",
      "Image sucessfully Downloaded:  9.png\n",
      "42.0\n",
      "Image sucessfully Downloaded:  10.png\n",
      "[]\n"
     ]
    }
   ],
   "source": [
    "nums = []\n",
    "i = 0\n",
    "for material in Skill_Upgrade:\n",
    "    i+=1\n",
    "    link = base_url + material.find(\"img\")[\"src\"]\n",
    "    num = material.find(\"div\", {\"class\": \"costtext\"}).text.strip()\n",
    "    file_name = f\"{i}.png\"\n",
    "\n",
    "    res = requests.get(link, stream = True)\n",
    "\n",
    "    if res.status_code == 200:\n",
    "        with open(f\"download/{file_name}\",'wb') as f:\n",
    "            shutil.copyfileobj(res.raw, f)\n",
    "\n",
    "        img = Image.open(f\"download/{i}.png\")\n",
    "        font = ImageFont.truetype(\"arial.ttf\", 38)\n",
    "        I1 = ImageDraw.Draw(img)\n",
    "        width = I1.textlength(num, font=font)\n",
    "        print(width)\n",
    "        l = (256 - width)/2\n",
    "        I1.text((l, 212),num,(0,0,0), font=font, align=\"center\")\n",
    "\n",
    "        img.save(f\"download/{file_name}\")    \n",
    "        print('Image sucessfully Downloaded: ',file_name)\n",
    "    else:\n",
    "        print('Image Couldn\\'t be retrieved')\n",
    "\n",
    "print(nums)"
   ]
  },
  {
   "cell_type": "code",
   "execution_count": 101,
   "metadata": {},
   "outputs": [
    {
     "name": "stdout",
     "output_type": "stream",
     "text": [
      "147.0\n"
     ]
    }
   ],
   "source": [
    "img = Image.open('download/1.png')\n",
    "font = ImageFont.truetype(\"arial.ttf\", 38)\n",
    "I1 = ImageDraw.Draw(img)\n",
    "line = nums[0]\n",
    "width = I1.textlength(line, font=font)\n",
    "print(width)\n",
    "l = (256 - width)/2\n",
    "I1.text((l, 212),line,(0,0,0), font=font, align=\"center\")\n",
    "\n",
    "img.save(\"car2.png\")\n"
   ]
  },
  {
   "cell_type": "code",
   "execution_count": 111,
   "metadata": {},
   "outputs": [],
   "source": [
    " \n",
    "# Opens a image in RGB mode \n",
    "im = Image.open(\"role_1304.png\") \n",
    "\n",
    "newsize = (100, 100)\n",
    "im1 = im.resize(newsize)\n",
    "im1.show()\n",
    "\n",
    "im1.save(\"car2.png\")"
   ]
  },
  {
   "cell_type": "code",
   "execution_count": null,
   "metadata": {},
   "outputs": [],
   "source": [
    "from aiogram.types import InlineKeyboardButton, InlineKeyboardMarkup, Message\n",
    "\n",
    "sort_by_rarity = InlineKeyboardButton(\n",
    "    text='Sort by rarity',\n",
    "    callback_data='sort_by_rarity'\n",
    ")\n",
    "\n",
    "sort_by_element = InlineKeyboardButton(\n",
    "    text='Sort by element',\n",
    "    callback_data='sort_by_element'\n",
    ")\n",
    "\n",
    "# Создаем объект инлайн-клавиатуры\n",
    "keyboard = InlineKeyboardMarkup(\n",
    "    inline_keyboard=[[sort_by_rarity],\n",
    "                     [sort_by_element]]\n",
    ")"
   ]
  },
  {
   "cell_type": "code",
   "execution_count": 13,
   "metadata": {},
   "outputs": [],
   "source": [
    "from functions import load_data_base\n",
    "\n",
    "base = load_data_base()\n",
    "s = 'from aiogram.types import InlineKeyboardButton\\n\\n'\n",
    "for resonator_name in base:\n",
    "   s += f\"choice_{resonator_name} = InlineKeyboardButton(\\n    text='{resonator_name}',\\n    callback_data='{resonator_name}_choicen'\\n)\\n\"\n",
    "\n",
    "with open('resonators.py', 'w') as f:\n",
    "    data = s\n",
    "    f.write(data)"
   ]
  },
  {
   "cell_type": "code",
   "execution_count": 7,
   "metadata": {},
   "outputs": [],
   "source": [
    "from keys import elements\n",
    "\n",
    "s = 'from aiogram.types import InlineKeyboardButton\\n\\n'\n",
    "for element in elements:\n",
    "   s += f\"choice_{elements[element]} = InlineKeyboardButton(\\n    text='{elements[element]}',\\n    callback_data='{elements[element]}_choicen'\\n)\\n\"\n",
    "\n",
    "with open('elements.py', 'w') as f:\n",
    "    data = s\n",
    "    f.write(data)"
   ]
  },
  {
   "cell_type": "code",
   "execution_count": 18,
   "metadata": {},
   "outputs": [],
   "source": [
    "five_star = []\n",
    "four_star = []\n",
    "for resonator_name in base:\n",
    "    if base[resonator_name][0] == \"5\":\n",
    "        five_star.append(resonator_name)\n",
    "    else:\n",
    "        four_star.append(resonator_name)\n",
    "\n",
    "s = 'from aiogram.types import InlineKeyboardMarkup\\n\\n'\n",
    "s += f\"keyboard = InlineKeyboardMarkup(\\n    inline_keyboard=[[choice_{five_star[0]}],\\n\"\n",
    "for i in range(1, len(five_star)-1):\n",
    "    s += f\"                     [choice_{five_star[i]}],\\n\"\n",
    "s += f\"                     [choice_{five_star[-1]}]]\\n)\"\n",
    "\n",
    "with open('five_star_keyboard.py', 'w') as f:\n",
    "    data = s\n",
    "    f.write(data)"
   ]
  },
  {
   "cell_type": "code",
   "execution_count": 19,
   "metadata": {},
   "outputs": [],
   "source": [
    "s = 'from aiogram.types import InlineKeyboardMarkup\\n\\n'\n",
    "s += f\"keyboard = InlineKeyboardMarkup(\\n    inline_keyboard=[[choice_{four_star[0]}],\\n\"\n",
    "for i in range(1, len(four_star)-1):\n",
    "    s += f\"                     [choice_{four_star[i]}],\\n\"\n",
    "s += f\"                     [choice_{four_star[-1]}]]\\n)\"\n",
    "\n",
    "with open('four_star_keyboard.py', 'w') as f:\n",
    "    data = s\n",
    "    f.write(data)"
   ]
  },
  {
   "cell_type": "code",
   "execution_count": null,
   "metadata": {},
   "outputs": [],
   "source": [
    "s = 'from aiogram.types import InlineKeyboardMarkup\\n\\n'\n",
    "s += f\"keyboard = InlineKeyboardMarkup(\\n    inline_keyboard=[[choice_{four_star[0]}],\\n\"\n",
    "for i in range(1, len(four_star)-1):\n",
    "    s += f\"                     [choice_{four_star[i]}],\\n\"\n",
    "s += f\"                     [choice_{four_star[-1]}]]\\n)\"\n",
    "\n",
    "with open('four_star_keyboard.py', 'w') as f:\n",
    "    data = s\n",
    "    f.write(data)"
   ]
  }
 ],
 "metadata": {
  "kernelspec": {
   "display_name": "env",
   "language": "python",
   "name": "python3"
  },
  "language_info": {
   "codemirror_mode": {
    "name": "ipython",
    "version": 3
   },
   "file_extension": ".py",
   "mimetype": "text/x-python",
   "name": "python",
   "nbconvert_exporter": "python",
   "pygments_lexer": "ipython3",
   "version": "3.12.2"
  }
 },
 "nbformat": 4,
 "nbformat_minor": 2
}
